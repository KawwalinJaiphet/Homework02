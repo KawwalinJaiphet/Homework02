{
 "cells": [
  {
   "cell_type": "code",
   "execution_count": 7,
   "metadata": {},
   "outputs": [],
   "source": [
    "#ประกาศใช้ Library\n",
    "from __future__ import print_function, division\n",
    "\n",
    "%matplotlib inline\n",
    "import warnings\n",
    "warnings.filterwarnings('ignore')\n",
    "\n",
    "import thinkdsp\n",
    "import thinkplot\n",
    "import thinkstats2 \n",
    "\n",
    "import numpy as np\n",
    "\n",
    "from ipywidgets import interact, interactive, fixed\n",
    "import ipywidgets as widgets"
   ]
  },
  {
   "cell_type": "code",
   "execution_count": 8,
   "metadata": {},
   "outputs": [],
   "source": [
    "#การสร้างสัญญาณรบกวนจากการ สัญญาณมีค่าสุ่มจากการกระจายแบบสม่ำเสมอ\n",
    "thinkdsp.random_seed(3)"
   ]
  },
  {
   "cell_type": "code",
   "execution_count": 9,
   "metadata": {},
   "outputs": [
    {
     "data": {
      "text/html": [
       "\n",
       "                <audio  controls=\"controls\" >\n",
       "                    <source src=\"data:audio/wav;base64,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\" type=\"audio/wav\" />\n",
       "                    Your browser does not support the audio element.\n",
       "                </audio>\n",
       "              "
      ],
      "text/plain": [
       "<IPython.lib.display.Audio object>"
      ]
     },
     "execution_count": 9,
     "metadata": {},
     "output_type": "execute_result"
    }
   ],
   "source": [
    "#นำสัญญาณไปร่วมกับ สัญญาณที่ไม่เกี่ยวข้อง\n",
    "signal = thinkdsp.UncorrelatedUniformNoise()\n",
    "#สร้างสัญญาณรบกวน\n",
    "kellzwave = signal.make_wave(duration=0.5, framerate=5512)\n",
    "kellzwave.make_audio()"
   ]
  },
  {
   "cell_type": "code",
   "execution_count": null,
   "metadata": {},
   "outputs": [],
   "source": []
  },
  {
   "cell_type": "code",
   "execution_count": null,
   "metadata": {},
   "outputs": [],
   "source": []
  }
 ],
 "metadata": {
  "kernelspec": {
   "display_name": "Python 3",
   "language": "python",
   "name": "python3"
  },
  "language_info": {
   "codemirror_mode": {
    "name": "ipython",
    "version": 3
   },
   "file_extension": ".py",
   "mimetype": "text/x-python",
   "name": "python",
   "nbconvert_exporter": "python",
   "pygments_lexer": "ipython3",
   "version": "3.7.6"
  }
 },
 "nbformat": 4,
 "nbformat_minor": 2
}
